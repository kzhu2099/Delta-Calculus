{
 "cells": [
  {
   "cell_type": "code",
   "execution_count": 1,
   "id": "55cb4ce7",
   "metadata": {},
   "outputs": [
    {
     "name": "stdout",
     "output_type": "stream",
     "text": [
      "Exception reporting mode: Verbose\n"
     ]
    }
   ],
   "source": [
    "%load_ext autoreload\n",
    "%autoreload 2\n",
    "%xmode verbose"
   ]
  },
  {
   "cell_type": "code",
   "execution_count": 2,
   "id": "17d65b12",
   "metadata": {},
   "outputs": [],
   "source": [
    "from deltacalc import *\n",
    "\n",
    "set_seed(0)"
   ]
  },
  {
   "cell_type": "code",
   "execution_count": 3,
   "id": "7ac37759",
   "metadata": {},
   "outputs": [
    {
     "data": {
      "text/latex": [
       "$\\displaystyle f{\\left(x \\right)} = \\frac{2 x^{6} + 2 x^{5} + 5 \\sin{\\left(x \\right)} + 7 \\cot{\\left(x \\right)}}{2 \\left(x + 5\\right)^{3}}$"
      ],
      "text/plain": [
       "          6      5                      \n",
       "       2⋅x  + 2⋅x  + 5⋅sin(x) + 7⋅cot(x)\n",
       "f(x) = ─────────────────────────────────\n",
       "                           3            \n",
       "                  2⋅(x + 5)             "
      ]
     },
     "execution_count": 3,
     "metadata": {},
     "output_type": "execute_result"
    }
   ],
   "source": [
    "RandomDerivative.init()\n",
    "e = RandomDerivative.generate()\n",
    "RandomDerivative.equation(e)"
   ]
  },
  {
   "cell_type": "code",
   "execution_count": 4,
   "id": "036c8746",
   "metadata": {},
   "outputs": [
    {
     "data": {
      "text/latex": [
       "$\\displaystyle \\operatorname{f'}{\\left(x \\right)} = ...$"
      ],
      "text/plain": [
       "f'(x) = ..."
      ]
     },
     "execution_count": 4,
     "metadata": {},
     "output_type": "execute_result"
    }
   ],
   "source": [
    "RandomDerivative.question()"
   ]
  },
  {
   "cell_type": "code",
   "execution_count": 5,
   "id": "781fab63",
   "metadata": {},
   "outputs": [
    {
     "data": {
      "text/latex": [
       "$\\displaystyle \\frac{- 6 x^{6} - 6 x^{5} + \\left(x + 5\\right) \\left(12 x^{5} + 10 x^{4} + 5 \\cos{\\left(x \\right)} - \\frac{7}{\\sin^{2}{\\left(x \\right)}}\\right) - 15 \\sin{\\left(x \\right)} - 21 \\cot{\\left(x \\right)}}{2 \\left(x + 5\\right)^{4}}$"
      ],
      "text/plain": [
       "     6      5           ⎛    5       4                 7   ⎞                   ↪\n",
       "- 6⋅x  - 6⋅x  + (x + 5)⋅⎜12⋅x  + 10⋅x  + 5⋅cos(x) - ───────⎟ - 15⋅sin(x) - 21⋅ ↪\n",
       "                        ⎜                              2   ⎟                   ↪\n",
       "                        ⎝                           sin (x)⎠                   ↪\n",
       "────────────────────────────────────────────────────────────────────────────── ↪\n",
       "                                              4                                ↪\n",
       "                                     2⋅(x + 5)                                 ↪\n",
       "\n",
       "↪       \n",
       "↪ cot(x)\n",
       "↪       \n",
       "↪       \n",
       "↪ ──────\n",
       "↪       \n",
       "↪       "
      ]
     },
     "execution_count": 5,
     "metadata": {},
     "output_type": "execute_result"
    }
   ],
   "source": [
    "RandomDerivative.answer(e)"
   ]
  },
  {
   "cell_type": "code",
   "execution_count": 6,
   "id": "c0ed996a",
   "metadata": {},
   "outputs": [
    {
     "data": {
      "text/latex": [
       "$\\displaystyle f{\\left(x \\right)} = \\frac{8 \\cdot 8^{x} + 6 x^{4} + e^{x}}{5 x + 10}$"
      ],
      "text/plain": [
       "          x      4    x\n",
       "       8⋅8  + 6⋅x  + ℯ \n",
       "f(x) = ────────────────\n",
       "           5⋅x + 10    "
      ]
     },
     "execution_count": 6,
     "metadata": {},
     "output_type": "execute_result"
    }
   ],
   "source": [
    "RandomIntegral.init()\n",
    "e = RandomIntegral.generate()\n",
    "RandomIntegral.equation(e)"
   ]
  },
  {
   "cell_type": "code",
   "execution_count": 7,
   "id": "db22c7b0",
   "metadata": {},
   "outputs": [
    {
     "data": {
      "text/latex": [
       "$\\displaystyle \\int f{\\left(x \\right)}\\, dx = ...$"
      ],
      "text/plain": [
       "⌠              \n",
       "⎮ f(x) dx = ...\n",
       "⌡              "
      ]
     },
     "execution_count": 7,
     "metadata": {},
     "output_type": "execute_result"
    }
   ],
   "source": [
    "RandomIntegral.question()"
   ]
  },
  {
   "cell_type": "code",
   "execution_count": 8,
   "id": "3caa8365",
   "metadata": {},
   "outputs": [
    {
     "data": {
      "text/latex": [
       "$\\displaystyle \\frac{3 x^{4}}{10} - \\frac{4 x^{3}}{5} + \\frac{12 x^{2}}{5} - \\frac{48 x}{5} + \\frac{96 \\log{\\left(x + 2 \\right)}}{5} + \\frac{8 \\int \\frac{8^{x}}{x + 2}\\, dx}{5} + \\frac{\\int \\frac{e^{x}}{x + 2}\\, dx}{5}$"
      ],
      "text/plain": [
       "                                               ⌠            ⌠         \n",
       "                                               ⎮   x        ⎮   x     \n",
       "                                               ⎮  8         ⎮  ℯ      \n",
       "                                             8⋅⎮ ───── dx   ⎮ ───── dx\n",
       "   4      3       2                            ⎮ x + 2      ⎮ x + 2   \n",
       "3⋅x    4⋅x    12⋅x    48⋅x   96⋅log(x + 2)     ⌡            ⌡         \n",
       "──── - ──── + ───── - ──── + ───────────── + ──────────── + ──────────\n",
       " 10     5       5      5           5              5             5     "
      ]
     },
     "execution_count": 8,
     "metadata": {},
     "output_type": "execute_result"
    }
   ],
   "source": [
    "RandomIntegral.answer(e)"
   ]
  },
  {
   "cell_type": "code",
   "execution_count": 13,
   "id": "007b6822",
   "metadata": {},
   "outputs": [
    {
     "data": {
      "text/plain": [
       "'Problem 1:'"
      ]
     },
     "metadata": {},
     "output_type": "display_data"
    },
    {
     "data": {
      "text/latex": [
       "$\\displaystyle f{\\left(x \\right)} = \\frac{7 e^{x} + 3 \\log{\\left(x + 1 \\right)} + 7 \\sin{\\left(x \\right)}}{2 \\left(x + 5\\right)^{2}}$"
      ],
      "text/plain": [
       "          x                          \n",
       "       7⋅ℯ  + 3⋅log(x + 1) + 7⋅sin(x)\n",
       "f(x) = ──────────────────────────────\n",
       "                          2          \n",
       "                 2⋅(x + 5)           "
      ]
     },
     "metadata": {},
     "output_type": "display_data"
    },
    {
     "data": {
      "text/latex": [
       "$\\displaystyle \\operatorname{f'}{\\left(x \\right)} = ...$"
      ],
      "text/plain": [
       "f'(x) = ..."
      ]
     },
     "metadata": {},
     "output_type": "display_data"
    },
    {
     "name": "stdout",
     "output_type": "stream",
     "text": [
      "Your answer: x***3\n",
      "Invalid input. Please try again.\n",
      "Your answer: x**3\n",
      "Incorrect!\n"
     ]
    },
    {
     "data": {
      "text/latex": [
       "$\\displaystyle \\frac{- 2 \\left(x + 1\\right) \\left(7 e^{x} + 3 \\log{\\left(x + 1 \\right)} + 7 \\sin{\\left(x \\right)}\\right) + \\left(x + 5\\right) \\left(7 \\left(x + 1\\right) \\left(e^{x} + \\cos{\\left(x \\right)}\\right) + 3\\right)}{2 \\left(x + 1\\right) \\left(x + 5\\right)^{3}}$"
      ],
      "text/plain": [
       "            ⎛   x                          ⎞           ⎛          ⎛ x          ↪\n",
       "- 2⋅(x + 1)⋅⎝7⋅ℯ  + 3⋅log(x + 1) + 7⋅sin(x)⎠ + (x + 5)⋅⎝7⋅(x + 1)⋅⎝ℯ  + cos(x) ↪\n",
       "────────────────────────────────────────────────────────────────────────────── ↪\n",
       "                                                  3                            ↪\n",
       "                                 2⋅(x + 1)⋅(x + 5)                             ↪\n",
       "\n",
       "↪ ⎞    ⎞\n",
       "↪ ⎠ + 3⎠\n",
       "↪ ──────\n",
       "↪       \n",
       "↪       "
      ]
     },
     "metadata": {},
     "output_type": "display_data"
    },
    {
     "data": {
      "text/plain": [
       "'Problem 1:'"
      ]
     },
     "metadata": {},
     "output_type": "display_data"
    },
    {
     "data": {
      "text/latex": [
       "$\\displaystyle f{\\left(x \\right)} = \\frac{3 \\cdot 5^{x} + 8 e^{x}}{2 \\left(x + 1\\right)^{3}}$"
      ],
      "text/plain": [
       "          x      x\n",
       "       3⋅5  + 8⋅ℯ \n",
       "f(x) = ───────────\n",
       "                3 \n",
       "       2⋅(x + 1)  "
      ]
     },
     "metadata": {},
     "output_type": "display_data"
    },
    {
     "data": {
      "text/latex": [
       "$\\displaystyle \\int f{\\left(x \\right)}\\, dx = ...$"
      ],
      "text/plain": [
       "⌠              \n",
       "⎮ f(x) dx = ...\n",
       "⌡              "
      ]
     },
     "metadata": {},
     "output_type": "display_data"
    },
    {
     "name": "stdout",
     "output_type": "stream",
     "text": [
      "Your answer: x^2\n",
      "Incorrect!\n"
     ]
    },
    {
     "data": {
      "text/latex": [
       "$\\displaystyle \\frac{3 \\int \\frac{5^{x}}{\\left(x + 1\\right)^{3}}\\, dx}{2} + 4 \\int \\frac{e^{x}}{\\left(x + 1\\right)^{3}}\\, dx$"
      ],
      "text/plain": [
       "  ⌠                              \n",
       "  ⎮     x                        \n",
       "  ⎮    5                         \n",
       "3⋅⎮ ──────── dx                  \n",
       "  ⎮        3        ⌠            \n",
       "  ⎮ (x + 1)         ⎮     x      \n",
       "  ⌡                 ⎮    ℯ       \n",
       "─────────────── + 4⋅⎮ ──────── dx\n",
       "       2            ⎮        3   \n",
       "                    ⎮ (x + 1)    \n",
       "                    ⌡            "
      ]
     },
     "metadata": {},
     "output_type": "display_data"
    }
   ],
   "source": [
    "Trainer.practice_derivatives(1)\n",
    "Trainer.practice_integrals(1)"
   ]
  },
  {
   "cell_type": "code",
   "execution_count": 10,
   "id": "5e256acc",
   "metadata": {},
   "outputs": [
    {
     "data": {
      "text/plain": [
       "'https://latex.codecogs.com/png.latex?%5Cfrac%7B8%20%5Ccdot%208%5E%7Bx%7D%20%2B%206%20x%5E%7B4%7D%20%2B%20e%5E%7Bx%7D%7D%7B5%20x%20%2B%2010%7D'"
      ]
     },
     "execution_count": 10,
     "metadata": {},
     "output_type": "execute_result"
    }
   ],
   "source": [
    "image(e)"
   ]
  }
 ],
 "metadata": {
  "kernelspec": {
   "display_name": ".venv",
   "language": "python",
   "name": "python3"
  },
  "language_info": {
   "codemirror_mode": {
    "name": "ipython",
    "version": 3
   },
   "file_extension": ".py",
   "mimetype": "text/x-python",
   "name": "python",
   "nbconvert_exporter": "python",
   "pygments_lexer": "ipython3",
   "version": "3.12.3"
  }
 },
 "nbformat": 4,
 "nbformat_minor": 5
}
