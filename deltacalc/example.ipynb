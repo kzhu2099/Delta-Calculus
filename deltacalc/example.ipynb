{
 "cells": [
  {
   "cell_type": "code",
   "execution_count": 1,
   "id": "55cb4ce7",
   "metadata": {},
   "outputs": [
    {
     "name": "stdout",
     "output_type": "stream",
     "text": [
      "Exception reporting mode: Verbose\n"
     ]
    }
   ],
   "source": [
    "%load_ext autoreload\n",
    "%autoreload 2\n",
    "%xmode verbose"
   ]
  },
  {
   "cell_type": "code",
   "execution_count": 2,
   "id": "6cc002bf",
   "metadata": {},
   "outputs": [],
   "source": [
    "from Main import RandomDerivative, RandomIntegral, html_problem"
   ]
  },
  {
   "cell_type": "code",
   "execution_count": 3,
   "id": "7ac37759",
   "metadata": {},
   "outputs": [
    {
     "data": {
      "text/latex": [
       "$\\displaystyle f{\\left(x \\right)} = \\frac{16 e^{x}}{x + 3}$"
      ],
      "text/plain": [
       "           x\n",
       "       16⋅ℯ \n",
       "f(x) = ─────\n",
       "       x + 3"
      ]
     },
     "execution_count": 3,
     "metadata": {},
     "output_type": "execute_result"
    }
   ],
   "source": [
    "RandomDerivative.init()\n",
    "e = RandomIntegral.generate()\n",
    "RandomDerivative.equation(e)"
   ]
  },
  {
   "cell_type": "code",
   "execution_count": 4,
   "id": "036c8746",
   "metadata": {},
   "outputs": [
    {
     "data": {
      "text/latex": [
       "$\\displaystyle \\operatorname{f'}{\\left(x \\right)} = ...$"
      ],
      "text/plain": [
       "f'(x) = ..."
      ]
     },
     "execution_count": 4,
     "metadata": {},
     "output_type": "execute_result"
    }
   ],
   "source": [
    "RandomDerivative.question()"
   ]
  },
  {
   "cell_type": "code",
   "execution_count": 5,
   "id": "781fab63",
   "metadata": {},
   "outputs": [
    {
     "data": {
      "text/latex": [
       "$\\displaystyle \\frac{16 \\left(x + 2\\right) e^{x}}{x^{2} + 6 x + 9}$"
      ],
      "text/plain": [
       "            x\n",
       "16⋅(x + 2)⋅ℯ \n",
       "─────────────\n",
       " 2           \n",
       "x  + 6⋅x + 9 "
      ]
     },
     "execution_count": 5,
     "metadata": {},
     "output_type": "execute_result"
    }
   ],
   "source": [
    "RandomDerivative.answer(e)"
   ]
  },
  {
   "cell_type": "code",
   "execution_count": 6,
   "id": "c0ed996a",
   "metadata": {},
   "outputs": [
    {
     "data": {
      "text/latex": [
       "$\\displaystyle f{\\left(x \\right)} = \\frac{6 x}{x + 3}$"
      ],
      "text/plain": [
       "        6⋅x \n",
       "f(x) = ─────\n",
       "       x + 3"
      ]
     },
     "execution_count": 6,
     "metadata": {},
     "output_type": "execute_result"
    }
   ],
   "source": [
    "RandomIntegral.init()\n",
    "e = RandomIntegral.generate()\n",
    "RandomIntegral.equation(e)"
   ]
  },
  {
   "cell_type": "code",
   "execution_count": 7,
   "id": "db22c7b0",
   "metadata": {},
   "outputs": [
    {
     "data": {
      "text/latex": [
       "$\\displaystyle \\int f{\\left(x \\right)}\\, dx = ...$"
      ],
      "text/plain": [
       "⌠              \n",
       "⎮ f(x) dx = ...\n",
       "⌡              "
      ]
     },
     "execution_count": 7,
     "metadata": {},
     "output_type": "execute_result"
    }
   ],
   "source": [
    "RandomIntegral.question()"
   ]
  },
  {
   "cell_type": "code",
   "execution_count": 8,
   "id": "3caa8365",
   "metadata": {},
   "outputs": [
    {
     "data": {
      "text/latex": [
       "$\\displaystyle 6 x - 18 \\log{\\left(x + 3 \\right)}$"
      ],
      "text/plain": [
       "6⋅x - 18⋅log(x + 3)"
      ]
     },
     "execution_count": 8,
     "metadata": {},
     "output_type": "execute_result"
    }
   ],
   "source": [
    "RandomIntegral.answer(e)"
   ]
  },
  {
   "cell_type": "code",
   "execution_count": 9,
   "id": "0476cffe",
   "metadata": {},
   "outputs": [
    {
     "data": {
      "text/plain": [
       "'Problem 1:'"
      ]
     },
     "metadata": {},
     "output_type": "display_data"
    },
    {
     "data": {
      "text/latex": [
       "$\\displaystyle f{\\left(x \\right)} = \\frac{x^{3} + 6 x^{2} + 2 \\cos{\\left(x \\right)} + 6 \\cot{\\left(x \\right)}}{2 \\left(x + 1\\right)^{3}}$"
      ],
      "text/plain": [
       "        3      2                      \n",
       "       x  + 6⋅x  + 2⋅cos(x) + 6⋅cot(x)\n",
       "f(x) = ───────────────────────────────\n",
       "                          3           \n",
       "                 2⋅(x + 1)            "
      ]
     },
     "metadata": {},
     "output_type": "display_data"
    },
    {
     "data": {
      "text/latex": [
       "$\\displaystyle \\operatorname{f'}{\\left(x \\right)} = ...$"
      ],
      "text/plain": [
       "f'(x) = ..."
      ]
     },
     "metadata": {},
     "output_type": "display_data"
    },
    {
     "name": "stdout",
     "output_type": "stream",
     "text": [
      "Incorrect!\n"
     ]
    },
    {
     "data": {
      "text/latex": [
       "$\\displaystyle \\frac{- 3 x^{3} - 18 x^{2} + \\left(x + 1\\right) \\left(3 x^{2} + 12 x - 2 \\sin{\\left(x \\right)} - \\frac{6}{\\sin^{2}{\\left(x \\right)}}\\right) - 6 \\cos{\\left(x \\right)} - 18 \\cot{\\left(x \\right)}}{2 \\left(x + 1\\right)^{4}}$"
      ],
      "text/plain": [
       "     3       2           ⎛   2                        6   ⎞                    ↪\n",
       "- 3⋅x  - 18⋅x  + (x + 1)⋅⎜3⋅x  + 12⋅x - 2⋅sin(x) - ───────⎟ - 6⋅cos(x) - 18⋅co ↪\n",
       "                         ⎜                            2   ⎟                    ↪\n",
       "                         ⎝                         sin (x)⎠                    ↪\n",
       "────────────────────────────────────────────────────────────────────────────── ↪\n",
       "                                             4                                 ↪\n",
       "                                    2⋅(x + 1)                                  ↪\n",
       "\n",
       "↪     \n",
       "↪ t(x)\n",
       "↪     \n",
       "↪     \n",
       "↪ ────\n",
       "↪     \n",
       "↪     "
      ]
     },
     "metadata": {},
     "output_type": "display_data"
    },
    {
     "data": {
      "text/plain": [
       "'Problem 1:'"
      ]
     },
     "metadata": {},
     "output_type": "display_data"
    },
    {
     "data": {
      "text/latex": [
       "$\\displaystyle f{\\left(x \\right)} = \\frac{3 x^{3} + \\sin{\\left(x \\right)}}{3 \\left(x + 4\\right)^{2}}$"
      ],
      "text/plain": [
       "          3         \n",
       "       3⋅x  + sin(x)\n",
       "f(x) = ─────────────\n",
       "                 2  \n",
       "        3⋅(x + 4)   "
      ]
     },
     "metadata": {},
     "output_type": "display_data"
    },
    {
     "data": {
      "text/latex": [
       "$\\displaystyle \\int f{\\left(x \\right)}\\, dx = ...$"
      ],
      "text/plain": [
       "⌠              \n",
       "⎮ f(x) dx = ...\n",
       "⌡              "
      ]
     },
     "metadata": {},
     "output_type": "display_data"
    },
    {
     "name": "stdout",
     "output_type": "stream",
     "text": [
      "Incorrect!\n"
     ]
    },
    {
     "data": {
      "text/latex": [
       "$\\displaystyle \\frac{x^{2}}{2} - 8 x + 48 \\log{\\left(x + 4 \\right)} + \\frac{\\int \\frac{\\sin{\\left(x \\right)}}{\\left(x + 4\\right)^{2}}\\, dx}{3} + \\frac{64}{x + 4}$"
      ],
      "text/plain": [
       "                           ⌠                    \n",
       "                           ⎮  sin(x)            \n",
       "                           ⎮ ──────── dx        \n",
       "                           ⎮        2           \n",
       " 2                         ⎮ (x + 4)            \n",
       "x                          ⌡                64  \n",
       "── - 8⋅x + 48⋅log(x + 4) + ───────────── + ─────\n",
       "2                                3         x + 4"
      ]
     },
     "metadata": {},
     "output_type": "display_data"
    }
   ],
   "source": [
    "from Trainer import Trainer\n",
    "\n",
    "Trainer.practice_derivatives(1)\n",
    "Trainer.practice_integrals(1)\n"
   ]
  },
  {
   "cell_type": "code",
   "execution_count": 11,
   "id": "5e256acc",
   "metadata": {},
   "outputs": [
    {
     "data": {
      "text/plain": [
       "'<apply><eq/><apply><f/><ci>x</ci></apply><apply><plus/><apply><times/><cn>5</cn><apply><power/><ci>x</ci><cn>7</cn></apply></apply><apply><times/><cn>7</cn><apply><power/><ci>x</ci><cn>6</cn></apply></apply><apply><times/><cn>8</cn><apply><ln/><apply><plus/><ci>x</ci><cn>6</cn></apply></apply></apply></apply></apply>'"
      ]
     },
     "execution_count": 11,
     "metadata": {},
     "output_type": "execute_result"
    }
   ],
   "source": [
    "html_problem(RandomDerivative)"
   ]
  }
 ],
 "metadata": {
  "kernelspec": {
   "display_name": ".venv",
   "language": "python",
   "name": "python3"
  },
  "language_info": {
   "codemirror_mode": {
    "name": "ipython",
    "version": 3
   },
   "file_extension": ".py",
   "mimetype": "text/x-python",
   "name": "python",
   "nbconvert_exporter": "python",
   "pygments_lexer": "ipython3",
   "version": "3.12.3"
  }
 },
 "nbformat": 4,
 "nbformat_minor": 5
}
