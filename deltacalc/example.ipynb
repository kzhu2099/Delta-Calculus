{
 "cells": [
  {
   "cell_type": "code",
   "execution_count": 1,
   "id": "55cb4ce7",
   "metadata": {},
   "outputs": [
    {
     "name": "stdout",
     "output_type": "stream",
     "text": [
      "Exception reporting mode: Verbose\n"
     ]
    }
   ],
   "source": [
    "%load_ext autoreload\n",
    "%autoreload 2\n",
    "%xmode verbose"
   ]
  },
  {
   "cell_type": "code",
   "execution_count": 2,
   "id": "17d65b12",
   "metadata": {},
   "outputs": [],
   "source": [
    "from Main import *\n",
    "\n",
    "set_seed(0)"
   ]
  },
  {
   "cell_type": "code",
   "execution_count": 3,
   "id": "7ac37759",
   "metadata": {},
   "outputs": [
    {
     "data": {
      "text/latex": [
       "$\\displaystyle f{\\left(x \\right)} = \\frac{2 x^{5} + 7 x + 5 \\sin{\\left(x \\right)}}{5 \\left(x + 3\\right)^{2}}$"
      ],
      "text/plain": [
       "          5                 \n",
       "       2⋅x  + 7⋅x + 5⋅sin(x)\n",
       "f(x) = ─────────────────────\n",
       "                     2      \n",
       "            5⋅(x + 3)       "
      ]
     },
     "execution_count": 3,
     "metadata": {},
     "output_type": "execute_result"
    }
   ],
   "source": [
    "RandomDerivative.init()\n",
    "e = RandomIntegral.generate()\n",
    "RandomDerivative.equation(e)"
   ]
  },
  {
   "cell_type": "code",
   "execution_count": 4,
   "id": "036c8746",
   "metadata": {},
   "outputs": [
    {
     "data": {
      "text/latex": [
       "$\\displaystyle \\operatorname{f'}{\\left(x \\right)} = ...$"
      ],
      "text/plain": [
       "f'(x) = ..."
      ]
     },
     "execution_count": 4,
     "metadata": {},
     "output_type": "execute_result"
    }
   ],
   "source": [
    "RandomDerivative.question()"
   ]
  },
  {
   "cell_type": "code",
   "execution_count": 5,
   "id": "781fab63",
   "metadata": {},
   "outputs": [
    {
     "data": {
      "text/latex": [
       "$\\displaystyle \\frac{- 4 x^{5} - 14 x + \\left(x + 3\\right) \\left(10 x^{4} + 5 \\cos{\\left(x \\right)} + 7\\right) - 10 \\sin{\\left(x \\right)}}{5 \\left(x + 3\\right)^{3}}$"
      ],
      "text/plain": [
       "     5                  ⎛    4               ⎞            \n",
       "- 4⋅x  - 14⋅x + (x + 3)⋅⎝10⋅x  + 5⋅cos(x) + 7⎠ - 10⋅sin(x)\n",
       "──────────────────────────────────────────────────────────\n",
       "                                 3                        \n",
       "                        5⋅(x + 3)                         "
      ]
     },
     "execution_count": 5,
     "metadata": {},
     "output_type": "execute_result"
    }
   ],
   "source": [
    "RandomDerivative.answer(e)"
   ]
  },
  {
   "cell_type": "code",
   "execution_count": 6,
   "id": "c0ed996a",
   "metadata": {},
   "outputs": [
    {
     "data": {
      "text/latex": [
       "$\\displaystyle f{\\left(x \\right)} = \\frac{7 \\tan{\\left(x \\right)}}{x + 5}$"
      ],
      "text/plain": [
       "       7⋅tan(x)\n",
       "f(x) = ────────\n",
       "        x + 5  "
      ]
     },
     "execution_count": 6,
     "metadata": {},
     "output_type": "execute_result"
    }
   ],
   "source": [
    "RandomIntegral.init()\n",
    "e = RandomIntegral.generate()\n",
    "RandomIntegral.equation(e)"
   ]
  },
  {
   "cell_type": "code",
   "execution_count": 7,
   "id": "db22c7b0",
   "metadata": {},
   "outputs": [
    {
     "data": {
      "text/latex": [
       "$\\displaystyle \\int f{\\left(x \\right)}\\, dx = ...$"
      ],
      "text/plain": [
       "⌠              \n",
       "⎮ f(x) dx = ...\n",
       "⌡              "
      ]
     },
     "execution_count": 7,
     "metadata": {},
     "output_type": "execute_result"
    }
   ],
   "source": [
    "RandomIntegral.question()"
   ]
  },
  {
   "cell_type": "code",
   "execution_count": 8,
   "id": "3caa8365",
   "metadata": {},
   "outputs": [
    {
     "data": {
      "text/latex": [
       "$\\displaystyle 7 \\int \\frac{\\tan{\\left(x \\right)}}{x + 5}\\, dx$"
      ],
      "text/plain": [
       "  ⌠          \n",
       "  ⎮ tan(x)   \n",
       "7⋅⎮ ────── dx\n",
       "  ⎮ x + 5    \n",
       "  ⌡          "
      ]
     },
     "execution_count": 8,
     "metadata": {},
     "output_type": "execute_result"
    }
   ],
   "source": [
    "RandomIntegral.answer(e)"
   ]
  },
  {
   "cell_type": "code",
   "execution_count": 9,
   "id": "007b6822",
   "metadata": {},
   "outputs": [
    {
     "data": {
      "text/plain": [
       "'Problem 1:'"
      ]
     },
     "metadata": {},
     "output_type": "display_data"
    },
    {
     "data": {
      "text/latex": [
       "$\\displaystyle f{\\left(x \\right)} = \\frac{14 x^{2} + 7 x + 3 \\sqrt{x + 2}}{5 x + 25}$"
      ],
      "text/plain": [
       "           2             _______\n",
       "       14⋅x  + 7⋅x + 3⋅╲╱ x + 2 \n",
       "f(x) = ─────────────────────────\n",
       "               5⋅x + 25         "
      ]
     },
     "metadata": {},
     "output_type": "display_data"
    },
    {
     "data": {
      "text/latex": [
       "$\\displaystyle \\operatorname{f'}{\\left(x \\right)} = ...$"
      ],
      "text/plain": [
       "f'(x) = ..."
      ]
     },
     "metadata": {},
     "output_type": "display_data"
    },
    {
     "name": "stdout",
     "output_type": "stream",
     "text": [
      "Your answer: x\n",
      "Incorrect!\n"
     ]
    },
    {
     "data": {
      "text/latex": [
       "$\\displaystyle \\frac{28 x^{2} \\sqrt{x + 2} + 280 x \\sqrt{x + 2} - 3 x + 70 \\sqrt{x + 2} + 3}{10 \\sqrt{x + 2} \\left(x^{2} + 10 x + 25\\right)}$"
      ],
      "text/plain": [
       "    2   _______           _______              _______    \n",
       "28⋅x ⋅╲╱ x + 2  + 280⋅x⋅╲╱ x + 2  - 3⋅x + 70⋅╲╱ x + 2  + 3\n",
       "──────────────────────────────────────────────────────────\n",
       "                   _______ ⎛ 2            ⎞               \n",
       "              10⋅╲╱ x + 2 ⋅⎝x  + 10⋅x + 25⎠               "
      ]
     },
     "metadata": {},
     "output_type": "display_data"
    },
    {
     "data": {
      "text/plain": [
       "'Problem 1:'"
      ]
     },
     "metadata": {},
     "output_type": "display_data"
    },
    {
     "data": {
      "text/latex": [
       "$\\displaystyle f{\\left(x \\right)} = \\frac{5 x^{8} + 5 x^{5}}{x + 2}$"
      ],
      "text/plain": [
       "          8      5\n",
       "       5⋅x  + 5⋅x \n",
       "f(x) = ───────────\n",
       "          x + 2   "
      ]
     },
     "metadata": {},
     "output_type": "display_data"
    },
    {
     "data": {
      "text/latex": [
       "$\\displaystyle \\int f{\\left(x \\right)}\\, dx = ...$"
      ],
      "text/plain": [
       "⌠              \n",
       "⎮ f(x) dx = ...\n",
       "⌡              "
      ]
     },
     "metadata": {},
     "output_type": "display_data"
    },
    {
     "name": "stdout",
     "output_type": "stream",
     "text": [
      "Your answer: x\n",
      "Incorrect!\n"
     ]
    },
    {
     "data": {
      "text/latex": [
       "$\\displaystyle \\frac{5 x^{8}}{8} - \\frac{10 x^{7}}{7} + \\frac{10 x^{6}}{3} - 7 x^{5} + \\frac{35 x^{4}}{2} - \\frac{140 x^{3}}{3} + 140 x^{2} - 560 x + 1120 \\log{\\left(x + 2 \\right)}$"
      ],
      "text/plain": [
       "   8       7       6              4        3                                   \n",
       "5⋅x    10⋅x    10⋅x       5   35⋅x    140⋅x         2                          \n",
       "──── - ───── + ───── - 7⋅x  + ───── - ────── + 140⋅x  - 560⋅x + 1120⋅log(x + 2)\n",
       " 8       7       3              2       3                                      "
      ]
     },
     "metadata": {},
     "output_type": "display_data"
    }
   ],
   "source": [
    "from Trainer import *\n",
    "\n",
    "Trainer.practice_derivatives(1)\n",
    "Trainer.practice_integrals(1)"
   ]
  },
  {
   "cell_type": "code",
   "execution_count": 10,
   "id": "5e256acc",
   "metadata": {},
   "outputs": [
    {
     "data": {
      "text/plain": [
       "'https://latex.codecogs.com/png.latex?7%20%5Cint%20%5Cfrac%7B%5Ctan%7B%5Cleft%28x%20%5Cright%29%7D%7D%7Bx%20%2B%205%7D%5C%2C%20dx'"
      ]
     },
     "execution_count": 10,
     "metadata": {},
     "output_type": "execute_result"
    }
   ],
   "source": [
    "image(RandomIntegral.answer(e))"
   ]
  }
 ],
 "metadata": {
  "kernelspec": {
   "display_name": ".venv",
   "language": "python",
   "name": "python3"
  },
  "language_info": {
   "codemirror_mode": {
    "name": "ipython",
    "version": 3
   },
   "file_extension": ".py",
   "mimetype": "text/x-python",
   "name": "python",
   "nbconvert_exporter": "python",
   "pygments_lexer": "ipython3",
   "version": "3.12.3"
  }
 },
 "nbformat": 4,
 "nbformat_minor": 5
}
