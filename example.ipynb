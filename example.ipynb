{
 "cells": [
  {
   "cell_type": "code",
   "execution_count": 1,
   "id": "55cb4ce7",
   "metadata": {},
   "outputs": [
    {
     "name": "stdout",
     "output_type": "stream",
     "text": [
      "Exception reporting mode: Verbose\n"
     ]
    }
   ],
   "source": [
    "%load_ext autoreload\n",
    "%autoreload 2\n",
    "%xmode verbose"
   ]
  },
  {
   "cell_type": "code",
   "execution_count": 2,
   "id": "17d65b12",
   "metadata": {},
   "outputs": [],
   "source": [
    "from deltacalc import *\n",
    "\n",
    "set_seed(0)"
   ]
  },
  {
   "cell_type": "code",
   "execution_count": 3,
   "id": "97c4f9ed",
   "metadata": {},
   "outputs": [
    {
     "data": {
      "text/latex": [
       "$\\displaystyle f{\\left(x \\right)} = 2 x^{3} + 3 \\log{\\left(x + 3 \\right)} + 4 \\csc{\\left(x \\right)}$"
      ],
      "text/plain": [
       "          3                          \n",
       "f(x) = 2⋅x  + 3⋅log(x + 3) + 4⋅csc(x)"
      ]
     },
     "execution_count": 3,
     "metadata": {},
     "output_type": "execute_result"
    }
   ],
   "source": [
    "RandomDerivative.init()\n",
    "e = RandomDerivative.generate()\n",
    "RandomDerivative.equation(e)"
   ]
  },
  {
   "cell_type": "code",
   "execution_count": 4,
   "id": "036c8746",
   "metadata": {},
   "outputs": [
    {
     "data": {
      "text/latex": [
       "$\\displaystyle \\operatorname{f'}{\\left(x \\right)} = ...$"
      ],
      "text/plain": [
       "f'(x) = ..."
      ]
     },
     "execution_count": 4,
     "metadata": {},
     "output_type": "execute_result"
    }
   ],
   "source": [
    "RandomDerivative.question()"
   ]
  },
  {
   "cell_type": "code",
   "execution_count": 5,
   "id": "781fab63",
   "metadata": {},
   "outputs": [
    {
     "data": {
      "text/latex": [
       "$\\displaystyle \\frac{\\left(2 x + 6\\right) \\left(3 x^{2} - 2 \\cot{\\left(x \\right)} \\csc{\\left(x \\right)}\\right) + 3}{x + 3}$"
      ],
      "text/plain": [
       "          ⎛   2                  ⎞    \n",
       "(2⋅x + 6)⋅⎝3⋅x  - 2⋅cot(x)⋅csc(x)⎠ + 3\n",
       "──────────────────────────────────────\n",
       "                x + 3                 "
      ]
     },
     "execution_count": 5,
     "metadata": {},
     "output_type": "execute_result"
    }
   ],
   "source": [
    "RandomDerivative.answer(e)"
   ]
  },
  {
   "cell_type": "code",
   "execution_count": 6,
   "id": "c0ed996a",
   "metadata": {},
   "outputs": [
    {
     "data": {
      "text/latex": [
       "$\\displaystyle f{\\left(x \\right)} = 3 x^{3}$"
      ],
      "text/plain": [
       "          3\n",
       "f(x) = 3⋅x "
      ]
     },
     "execution_count": 6,
     "metadata": {},
     "output_type": "execute_result"
    }
   ],
   "source": [
    "RandomIntegral.init()\n",
    "e = RandomIntegral.generate()\n",
    "RandomIntegral.equation(e)"
   ]
  },
  {
   "cell_type": "code",
   "execution_count": 7,
   "id": "db22c7b0",
   "metadata": {},
   "outputs": [
    {
     "data": {
      "text/latex": [
       "$\\displaystyle \\int f{\\left(x \\right)}\\, dx = ...$"
      ],
      "text/plain": [
       "⌠              \n",
       "⎮ f(x) dx = ...\n",
       "⌡              "
      ]
     },
     "execution_count": 7,
     "metadata": {},
     "output_type": "execute_result"
    }
   ],
   "source": [
    "RandomIntegral.question()"
   ]
  },
  {
   "cell_type": "code",
   "execution_count": 8,
   "id": "3caa8365",
   "metadata": {},
   "outputs": [
    {
     "data": {
      "text/latex": [
       "$\\displaystyle \\frac{3 x^{4}}{4}$"
      ],
      "text/plain": [
       "   4\n",
       "3⋅x \n",
       "────\n",
       " 4  "
      ]
     },
     "execution_count": 8,
     "metadata": {},
     "output_type": "execute_result"
    }
   ],
   "source": [
    "RandomIntegral.answer(e)"
   ]
  },
  {
   "cell_type": "code",
   "execution_count": 9,
   "id": "007b6822",
   "metadata": {},
   "outputs": [
    {
     "data": {
      "text/plain": [
       "'Problem 1:'"
      ]
     },
     "metadata": {},
     "output_type": "display_data"
    },
    {
     "data": {
      "text/latex": [
       "$\\displaystyle f{\\left(x \\right)} = 3 x^{2}$"
      ],
      "text/plain": [
       "          2\n",
       "f(x) = 3⋅x "
      ]
     },
     "metadata": {},
     "output_type": "display_data"
    },
    {
     "data": {
      "text/latex": [
       "$\\displaystyle \\operatorname{f'}{\\left(x \\right)} = ...$"
      ],
      "text/plain": [
       "f'(x) = ..."
      ]
     },
     "metadata": {},
     "output_type": "display_data"
    },
    {
     "name": "stdout",
     "output_type": "stream",
     "text": [
      "Your answer: x\n",
      "Incorrect!\n",
      "Correct answer: \n"
     ]
    },
    {
     "data": {
      "text/latex": [
       "$\\displaystyle 6 x$"
      ],
      "text/plain": [
       "6⋅x"
      ]
     },
     "metadata": {},
     "output_type": "display_data"
    },
    {
     "data": {
      "text/plain": [
       "'Problem 1:'"
      ]
     },
     "metadata": {},
     "output_type": "display_data"
    },
    {
     "data": {
      "text/latex": [
       "$\\displaystyle f{\\left(x \\right)} = 3 x + 2 \\log{\\left(x + 4 \\right)}$"
      ],
      "text/plain": [
       "f(x) = 3⋅x + 2⋅log(x + 4)"
      ]
     },
     "metadata": {},
     "output_type": "display_data"
    },
    {
     "data": {
      "text/latex": [
       "$\\displaystyle \\int f{\\left(x \\right)}\\, dx = ...$"
      ],
      "text/plain": [
       "⌠              \n",
       "⎮ f(x) dx = ...\n",
       "⌡              "
      ]
     },
     "metadata": {},
     "output_type": "display_data"
    },
    {
     "name": "stdout",
     "output_type": "stream",
     "text": [
      "Your answer: x\n",
      "Incorrect!\n",
      "Correct answer: \n"
     ]
    },
    {
     "data": {
      "text/latex": [
       "$\\displaystyle \\frac{3 x^{2}}{2} + 2 x \\log{\\left(x + 4 \\right)} - 2 x + 8 \\log{\\left(x + 4 \\right)}$"
      ],
      "text/plain": [
       "   2                                      \n",
       "3⋅x                                       \n",
       "──── + 2⋅x⋅log(x + 4) - 2⋅x + 8⋅log(x + 4)\n",
       " 2                                        "
      ]
     },
     "metadata": {},
     "output_type": "display_data"
    }
   ],
   "source": [
    "Trainer.practice_derivatives(1)\n",
    "Trainer.practice_integrals(1)"
   ]
  },
  {
   "cell_type": "code",
   "execution_count": 10,
   "id": "5e256acc",
   "metadata": {},
   "outputs": [
    {
     "name": "stdout",
     "output_type": "stream",
     "text": [
      "https://latex.codecogs.com/png.latex?\\bg_black\\color{White}3%20x%5E%7B3%7D\n"
     ]
    }
   ],
   "source": [
    "print(black_background_image(e))"
   ]
  }
 ],
 "metadata": {
  "kernelspec": {
   "display_name": ".venv",
   "language": "python",
   "name": "python3"
  },
  "language_info": {
   "codemirror_mode": {
    "name": "ipython",
    "version": 3
   },
   "file_extension": ".py",
   "mimetype": "text/x-python",
   "name": "python",
   "nbconvert_exporter": "python",
   "pygments_lexer": "ipython3",
   "version": "3.12.3"
  }
 },
 "nbformat": 4,
 "nbformat_minor": 5
}
